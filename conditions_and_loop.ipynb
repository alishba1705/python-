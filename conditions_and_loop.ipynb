{
  "nbformat": 4,
  "nbformat_minor": 0,
  "metadata": {
    "colab": {
      "provenance": []
    },
    "kernelspec": {
      "name": "python3",
      "display_name": "Python 3"
    },
    "language_info": {
      "name": "python"
    }
  },
  "cells": [
    {
      "cell_type": "code",
      "execution_count": null,
      "metadata": {
        "colab": {
          "base_uri": "https://localhost:8080/"
        },
        "id": "4Y3EtBsfkh2S",
        "outputId": "6b4bea21-664d-4cea-f2b9-4d41b58c2c7b"
      },
      "outputs": [
        {
          "output_type": "stream",
          "name": "stdout",
          "text": [
            "enter your iq level: 6\n",
            "enter your cgpa  number: 3.8\n",
            "you are selected for job\n"
          ]
        }
      ],
      "source": [
        "x=int(input(\"enter your iq level: \"))\n",
        "y=float(input(\"enter your cgpa  number: \"))\n",
        "if x>=6 and y>=3.5:\n",
        "   print (\"you are selected for job\")\n",
        "elif x>=3 and y>=3.2:\n",
        "  print (\"you are no selected for job\")\n",
        "else:\n",
        "   print (\"best of luck for next time \")"
      ]
    },
    {
      "cell_type": "code",
      "source": [
        "x=int(input(\"enter your iq level: \"))\n",
        "y=float(input(\"enter your cgpa  number: \"))\n",
        "if x>=6 or y>=3.5:\n",
        "   print (\"you are selected for job\")\n",
        "elif x>=3 or  y>=3.2:\n",
        "  print (\"you are no selected for job\")\n",
        "else:\n",
        "   print (\"best of luck for next time \")"
      ],
      "metadata": {
        "colab": {
          "base_uri": "https://localhost:8080/"
        },
        "id": "qb9CNV7pn9_U",
        "outputId": "2bd8128b-7f66-4f59-d51e-7daddaa96f32"
      },
      "execution_count": null,
      "outputs": [
        {
          "output_type": "stream",
          "name": "stdout",
          "text": [
            "enter your iq level: 3\n",
            "enter your cgpa  number: 3.8\n",
            "you are selected for job\n"
          ]
        }
      ]
    },
    {
      "cell_type": "code",
      "source": [
        "x = [\"apple\", \"banana\"]\n",
        "y = [\"apple\", \"banana\"]\n",
        "z = x\n",
        "\n",
        "print(x is z)\n",
        "\n",
        "print(x is y)\n",
        "\n",
        "print(x == y)"
      ],
      "metadata": {
        "colab": {
          "base_uri": "https://localhost:8080/"
        },
        "id": "yvk5THJWoOW7",
        "outputId": "f8f09c69-7337-4331-a610-b9a585cd4e34"
      },
      "execution_count": null,
      "outputs": [
        {
          "output_type": "stream",
          "name": "stdout",
          "text": [
            "True\n",
            "False\n",
            "True\n"
          ]
        }
      ]
    },
    {
      "cell_type": "code",
      "source": [],
      "metadata": {
        "id": "Ii1RX5OAcH2k"
      },
      "execution_count": null,
      "outputs": []
    }
  ]
}