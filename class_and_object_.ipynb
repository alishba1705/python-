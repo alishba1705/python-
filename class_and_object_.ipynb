{
  "nbformat": 4,
  "nbformat_minor": 0,
  "metadata": {
    "colab": {
      "provenance": []
    },
    "kernelspec": {
      "name": "python3",
      "display_name": "Python 3"
    },
    "language_info": {
      "name": "python"
    }
  },
  "cells": [
    {
      "cell_type": "code",
      "execution_count": 1,
      "metadata": {
        "colab": {
          "base_uri": "https://localhost:8080/"
        },
        "id": "YOOeBrPRcZbO",
        "outputId": "dba9659d-8283-4b0d-b3b0-c24e0d96613a"
      },
      "outputs": [
        {
          "output_type": "stream",
          "name": "stdout",
          "text": [
            "corolla 2019 toyota is started\n"
          ]
        }
      ],
      "source": [
        "class car:\n",
        "  def __init__(self,model,year,make):\n",
        "    self.model=model\n",
        "    self.year=year\n",
        "    self.make=make\n",
        "  def start(self):\n",
        "    print (f\"{self.model} {self.year} {self.make} is started\")\n",
        "my_car=car(\"corolla\",2019,\"toyota\")\n",
        "my_car.start()\n"
      ]
    },
    {
      "cell_type": "code",
      "source": [
        "class student:\n",
        "  def __init__(self,name,reg_no,year,dept):\n",
        "    self.name=name\n",
        "    self.reg_no=reg_no\n",
        "    self.year=year\n",
        "    self.dept=dept\n",
        "  def start(self):\n",
        "    print (f\"{self.name} {self.reg_no} {self.year} {self.dept} is continue\")\n",
        "my_student=student(\"alishba malik\",\"2021-bbit-03\",2021,\"ibm\")\n",
        "my_student.start()\n"
      ],
      "metadata": {
        "colab": {
          "base_uri": "https://localhost:8080/"
        },
        "id": "ZVscbOGhdBMx",
        "outputId": "2527e90c-86c3-4a44-d73e-18ff80422780"
      },
      "execution_count": 4,
      "outputs": [
        {
          "output_type": "stream",
          "name": "stdout",
          "text": [
            "alishba malik 2021-bbit-03 2021 ibm is continue\n"
          ]
        }
      ]
    }
  ]
}